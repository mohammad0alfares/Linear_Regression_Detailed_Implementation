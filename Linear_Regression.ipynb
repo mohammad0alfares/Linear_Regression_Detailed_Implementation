{
  "nbformat": 4,
  "nbformat_minor": 0,
  "metadata": {
    "kernelspec": {
      "display_name": "Python 3",
      "language": "python",
      "name": "python3"
    },
    "language_info": {
      "codemirror_mode": {
        "name": "ipython",
        "version": 3
      },
      "file_extension": ".py",
      "mimetype": "text/x-python",
      "name": "python",
      "nbconvert_exporter": "python",
      "pygments_lexer": "ipython3",
      "version": "3.5.4"
    },
    "colab": {
      "name": "Linear_Regression.ipynb",
      "provenance": []
    }
  },
  "cells": [
    {
      "cell_type": "code",
      "metadata": {
        "id": "zlqNGHIMICbQ",
        "colab_type": "code",
        "colab": {
          "base_uri": "https://localhost:8080/",
          "height": 71
        },
        "outputId": "8dc66ed4-7e5c-4f08-fcd2-09143fa4cbdf"
      },
      "source": [
        "import pandas as pd\n",
        "import numpy as np\n",
        "from sklearn import linear_model\n",
        "from sklearn.model_selection import train_test_split\n",
        "import seaborn as sns\n",
        "from sklearn import metrics\n",
        "import matplotlib.pyplot as plt\n",
        "%matplotlib inline"
      ],
      "execution_count": 1,
      "outputs": [
        {
          "output_type": "stream",
          "text": [
            "/usr/local/lib/python3.6/dist-packages/statsmodels/tools/_testing.py:19: FutureWarning: pandas.util.testing is deprecated. Use the functions in the public API at pandas.testing instead.\n",
            "  import pandas.util.testing as tm\n"
          ],
          "name": "stderr"
        }
      ]
    },
    {
      "cell_type": "code",
      "metadata": {
        "id": "0RXb37YkICbX",
        "colab_type": "code",
        "colab": {}
      },
      "source": [
        "df = pd.read_csv('https://raw.githubusercontent.com/mohammad0alfares/Linear_Regression_Detailed_Implementation/master/student_scores.csv', index_col=False)"
      ],
      "execution_count": 0,
      "outputs": []
    },
    {
      "cell_type": "code",
      "metadata": {
        "id": "_WZr59WSICbd",
        "colab_type": "code",
        "colab": {
          "base_uri": "https://localhost:8080/",
          "height": 204
        },
        "outputId": "643cdd8f-0858-4a0d-b59f-5f7742cc5853"
      },
      "source": [
        "df.columns = [\"Hours\", \"Marks\"]\n",
        "df.head()"
      ],
      "execution_count": 14,
      "outputs": [
        {
          "output_type": "execute_result",
          "data": {
            "text/html": [
              "<div>\n",
              "<style scoped>\n",
              "    .dataframe tbody tr th:only-of-type {\n",
              "        vertical-align: middle;\n",
              "    }\n",
              "\n",
              "    .dataframe tbody tr th {\n",
              "        vertical-align: top;\n",
              "    }\n",
              "\n",
              "    .dataframe thead th {\n",
              "        text-align: right;\n",
              "    }\n",
              "</style>\n",
              "<table border=\"1\" class=\"dataframe\">\n",
              "  <thead>\n",
              "    <tr style=\"text-align: right;\">\n",
              "      <th></th>\n",
              "      <th>Hours</th>\n",
              "      <th>Marks</th>\n",
              "    </tr>\n",
              "  </thead>\n",
              "  <tbody>\n",
              "    <tr>\n",
              "      <th>0</th>\n",
              "      <td>2.5</td>\n",
              "      <td>21</td>\n",
              "    </tr>\n",
              "    <tr>\n",
              "      <th>1</th>\n",
              "      <td>5.1</td>\n",
              "      <td>47</td>\n",
              "    </tr>\n",
              "    <tr>\n",
              "      <th>2</th>\n",
              "      <td>3.2</td>\n",
              "      <td>27</td>\n",
              "    </tr>\n",
              "    <tr>\n",
              "      <th>3</th>\n",
              "      <td>8.5</td>\n",
              "      <td>75</td>\n",
              "    </tr>\n",
              "    <tr>\n",
              "      <th>4</th>\n",
              "      <td>3.5</td>\n",
              "      <td>30</td>\n",
              "    </tr>\n",
              "  </tbody>\n",
              "</table>\n",
              "</div>"
            ],
            "text/plain": [
              "   Hours  Marks\n",
              "0    2.5     21\n",
              "1    5.1     47\n",
              "2    3.2     27\n",
              "3    8.5     75\n",
              "4    3.5     30"
            ]
          },
          "metadata": {
            "tags": []
          },
          "execution_count": 14
        }
      ]
    },
    {
      "cell_type": "code",
      "metadata": {
        "id": "wBbTTfs7ICbl",
        "colab_type": "code",
        "colab": {
          "base_uri": "https://localhost:8080/",
          "height": 34
        },
        "outputId": "e8e57cd6-f6db-4dd2-ee05-4b8c888199ce"
      },
      "source": [
        "df.shape"
      ],
      "execution_count": 9,
      "outputs": [
        {
          "output_type": "execute_result",
          "data": {
            "text/plain": [
              "(26, 2)"
            ]
          },
          "metadata": {
            "tags": []
          },
          "execution_count": 9
        }
      ]
    },
    {
      "cell_type": "markdown",
      "metadata": {
        "id": "yKHOznM1ICbr",
        "colab_type": "text"
      },
      "source": [
        "# Data Visualization"
      ]
    },
    {
      "cell_type": "markdown",
      "metadata": {
        "id": "ekWQ1aBfICbs",
        "colab_type": "text"
      },
      "source": [
        "To visualize distribution of data"
      ]
    },
    {
      "cell_type": "markdown",
      "metadata": {
        "id": "fZeA_XHfICbt",
        "colab_type": "text"
      },
      "source": [
        "Regression line is drawn over the points "
      ]
    },
    {
      "cell_type": "code",
      "metadata": {
        "id": "kW4qUjNLICbt",
        "colab_type": "code",
        "colab": {
          "base_uri": "https://localhost:8080/",
          "height": 458
        },
        "outputId": "31183414-183f-4deb-dc1d-64cd4587b989"
      },
      "source": [
        "sns.jointplot(x=df['Hours'], y=df['Marks'], data=df, kind='reg')"
      ],
      "execution_count": 15,
      "outputs": [
        {
          "output_type": "execute_result",
          "data": {
            "text/plain": [
              "<seaborn.axisgrid.JointGrid at 0x7f490b5245f8>"
            ]
          },
          "metadata": {
            "tags": []
          },
          "execution_count": 15
        },
        {
          "output_type": "display_data",
          "data": {
            "image/png": "[encoded data removed]",
            "text/plain": [
              "<Figure size 432x432 with 3 Axes>"
            ]
          },
          "metadata": {
            "tags": [],
            "needs_background": "light"
          }
        }
      ]
    },
    {
      "cell_type": "markdown",
      "metadata": {
        "id": "fawnHTk7ICbz",
        "colab_type": "text"
      },
      "source": [
        "# Splitting data into test and train"
      ]
    },
    {
      "cell_type": "code",
      "metadata": {
        "id": "RShMaMTwICb0",
        "colab_type": "code",
        "colab": {},
        "outputId": "917eed2a-a269-4ab5-f30a-f320124f984f"
      },
      "source": [
        "x_train, x_test, y_train, y_test = train_test_split(df['Hours'], df['Marks'], test_size=0.2, random_state=42)\n",
        "x_train = np.reshape(x_train, (-1,1))\n",
        "x_test = np.reshape(x_test, (-1,1))\n",
        "y_train = np.reshape(y_train, (-1,1))\n",
        "y_test = np.reshape(y_test, (-1,1))\n",
        "\n",
        "#\n",
        "print('Train - Predictors shape', x_train.shape)\n",
        "print('Test - Predictors shape', x_test.shape)\n",
        "print('Train - Target shape', y_train.shape)\n",
        "print('Test - Target shape', y_test.shape)"
      ],
      "execution_count": 0,
      "outputs": [
        {
          "output_type": "stream",
          "text": [
            "Train - Predictors shape (80, 1)\n",
            "Test - Predictors shape (20, 1)\n",
            "Train - Target shape (80, 1)\n",
            "Test - Target shape (20, 1)\n"
          ],
          "name": "stdout"
        },
        {
          "output_type": "stream",
          "text": [
            "C:\\Users\\saish\\Anaconda2\\envs\\tensorflow\\lib\\site-packages\\numpy\\core\\fromnumeric.py:57: FutureWarning: reshape is deprecated and will raise in a subsequent release. Please use .values.reshape(...) instead\n",
            "  return getattr(obj, method)(*args, **kwds)\n"
          ],
          "name": "stderr"
        }
      ]
    },
    {
      "cell_type": "markdown",
      "metadata": {
        "id": "ElnJ_GZpICb6",
        "colab_type": "text"
      },
      "source": [
        "# Linear Regression using Scikit"
      ]
    },
    {
      "cell_type": "markdown",
      "metadata": {
        "id": "PNn2lqzfICb7",
        "colab_type": "text"
      },
      "source": [
        "This is the linear regression model implemented using scikit library. "
      ]
    },
    {
      "cell_type": "code",
      "metadata": {
        "id": "wcsfUyz2ICb8",
        "colab_type": "code",
        "colab": {},
        "outputId": "c9ec4ce2-68ce-4347-c7a3-6f9936cb6db8"
      },
      "source": [
        "cls = linear_model.LinearRegression()\n",
        "#Fit method is used for fitting your training data into the model\n",
        "cls.fit(x_train,y_train)"
      ],
      "execution_count": 0,
      "outputs": [
        {
          "output_type": "execute_result",
          "data": {
            "text/plain": [
              "LinearRegression(copy_X=True, fit_intercept=True, n_jobs=1, normalize=False)"
            ]
          },
          "metadata": {
            "tags": []
          },
          "execution_count": 18
        }
      ]
    },
    {
      "cell_type": "code",
      "metadata": {
        "id": "O-BqZTWtICcC",
        "colab_type": "code",
        "colab": {}
      },
      "source": [
        "prediction = cls.predict(x_test)"
      ],
      "execution_count": 0,
      "outputs": []
    },
    {
      "cell_type": "code",
      "metadata": {
        "id": "qZBs4bMxICcH",
        "colab_type": "code",
        "colab": {},
        "outputId": "c01a9b6a-b3a3-4931-a8f2-f1ee2e9c72f2"
      },
      "source": [
        "#Parameters used for the model \n",
        "cls.get_params()"
      ],
      "execution_count": 0,
      "outputs": [
        {
          "output_type": "execute_result",
          "data": {
            "text/plain": [
              "{'copy_X': True, 'fit_intercept': True, 'n_jobs': 1, 'normalize': False}"
            ]
          },
          "metadata": {
            "tags": []
          },
          "execution_count": 20
        }
      ]
    },
    {
      "cell_type": "code",
      "metadata": {
        "id": "jJJtmblqICcN",
        "colab_type": "code",
        "colab": {},
        "outputId": "edf67598-e97c-497b-c3c6-1e0be385acd4"
      },
      "source": [
        "print('Co-efficient of linear regression',cls.coef_)"
      ],
      "execution_count": 0,
      "outputs": [
        {
          "output_type": "stream",
          "text": [
            "Co-efficient of linear regression [[ 1.19463787]]\n"
          ],
          "name": "stdout"
        }
      ]
    },
    {
      "cell_type": "code",
      "metadata": {
        "id": "UTY7YiRUICcR",
        "colab_type": "code",
        "colab": {},
        "outputId": "d280ceca-aa77-469d-cae9-fda7c850bbb9"
      },
      "source": [
        "print('Intercept of linear regression model',cls.intercept_)"
      ],
      "execution_count": 0,
      "outputs": [
        {
          "output_type": "stream",
          "text": [
            "Intercept of linear regression model [ 15.07636055]\n"
          ],
          "name": "stdout"
        }
      ]
    },
    {
      "cell_type": "code",
      "metadata": {
        "id": "lf7Qhq8lICcV",
        "colab_type": "code",
        "colab": {},
        "outputId": "769a2167-6c2d-48c7-df6d-e0e20d1cbee0"
      },
      "source": [
        "print('Mean Square Error', metrics.mean_squared_error(y_test, prediction))"
      ],
      "execution_count": 0,
      "outputs": [
        {
          "output_type": "stream",
          "text": [
            "Mean Square Error 153.209271672\n"
          ],
          "name": "stdout"
        }
      ]
    },
    {
      "cell_type": "code",
      "metadata": {
        "id": "E92OXDTjICcY",
        "colab_type": "code",
        "colab": {},
        "outputId": "961b348e-930c-43ce-b46f-55ba505b46fb"
      },
      "source": [
        "print('Model R^2 Square value', metrics.r2_score(y_test, prediction))"
      ],
      "execution_count": 0,
      "outputs": [
        {
          "output_type": "stream",
          "text": [
            "Model R^2 Square value 0.615496585536\n"
          ],
          "name": "stdout"
        }
      ]
    },
    {
      "cell_type": "code",
      "metadata": {
        "id": "QhoU0ykdICca",
        "colab_type": "code",
        "colab": {},
        "outputId": "ddffdad3-138e-4fce-daa7-1a3d80e55472"
      },
      "source": [
        "#Model Regression line on test set\n",
        "plt.scatter(x_test, y_test)\n",
        "plt.plot(x_test, prediction, color='red', linewidth=3)\n",
        "plt.xlabel('Hours')\n",
        "plt.ylabel('Marks')\n",
        "plt.title('Linear Regression')"
      ],
      "execution_count": 0,
      "outputs": [
        {
          "output_type": "execute_result",
          "data": {
            "text/plain": [
              "<matplotlib.text.Text at 0x16a385f7400>"
            ]
          },
          "metadata": {
            "tags": []
          },
          "execution_count": 25
        },
        {
          "output_type": "display_data",
          "data": {
            "image/png": "[encoded data removed]",
            "text/plain": [
              "<matplotlib.figure.Figure at 0x16a385a8e10>"
            ]
          },
          "metadata": {
            "tags": []
          }
        }
      ]
    },
    {
      "cell_type": "code",
      "metadata": {
        "id": "W-2x9AqGICcd",
        "colab_type": "code",
        "colab": {},
        "outputId": "cbf00b30-f543-4d7e-d605-56bbcb4bda36"
      },
      "source": [
        "#Residual plot\n",
        "plt.scatter(cls.predict(x_test), cls.predict(x_test) - y_test, c='g', s = 40)\n",
        "plt.hlines(y=0, xmin=0, xmax=100)\n",
        "plt.title('Residual plot')\n",
        "plt.ylabel('Residual')"
      ],
      "execution_count": 0,
      "outputs": [
        {
          "output_type": "execute_result",
          "data": {
            "text/plain": [
              "<matplotlib.text.Text at 0x16a38628f28>"
            ]
          },
          "metadata": {
            "tags": []
          },
          "execution_count": 26
        },
        {
          "output_type": "display_data",
          "data": {
            "image/png": "[encoded data removed]",
            "text/plain": [
              "<matplotlib.figure.Figure at 0x16a3863aeb8>"
            ]
          },
          "metadata": {
            "tags": []
          }
        }
      ]
    },
    {
      "cell_type": "markdown",
      "metadata": {
        "id": "dnpqD1h3ICch",
        "colab_type": "text"
      },
      "source": [
        "points are scattered around the line zero and there is no pattern that can be observed. This indicates that there no relation between predictors or time dependant data that is missed."
      ]
    },
    {
      "cell_type": "markdown",
      "metadata": {
        "id": "boYTwtD9ICch",
        "colab_type": "text"
      },
      "source": [
        "# Linear Regression using normal equaltions"
      ]
    },
    {
      "cell_type": "code",
      "metadata": {
        "id": "wlpTDrKQICci",
        "colab_type": "code",
        "colab": {}
      },
      "source": [
        "def theta_calc(x_train, y_train):\n",
        "    #Initializing all variables\n",
        "    n_data = x_train.shape[0]\n",
        "    bias = np.ones((n_data,1))\n",
        "    x_train_b = np.append(bias, x_train, axis=1)\n",
        "    #\n",
        "    theta_1 = np.linalg.inv(np.dot(x_train_b.T,x_train_b))\n",
        "    theta_2 = np.dot(theta_1, x_train_b.T)\n",
        "    theta = np.dot(theta_2,y_train)\n",
        "    #\n",
        "    return theta"
      ],
      "execution_count": 0,
      "outputs": []
    },
    {
      "cell_type": "code",
      "metadata": {
        "id": "vXSjfE6PICco",
        "colab_type": "code",
        "colab": {}
      },
      "source": [
        "def predict_func(slope,intercept,x_test):\n",
        "    #\n",
        "    pred = []\n",
        "    n_data = x_test.shape[0]\n",
        "    for i in range(n_data):\n",
        "        pred.append((slope * x_test[i]) + intercept)\n",
        "        \n",
        "    return pred"
      ],
      "execution_count": 0,
      "outputs": []
    },
    {
      "cell_type": "code",
      "metadata": {
        "id": "j5JW79tNICcs",
        "colab_type": "code",
        "colab": {}
      },
      "source": [
        "def mse_calc(prediction, y_test):\n",
        "    #\n",
        "    total_data = len(prediction)\n",
        "    error = 0\n",
        "    error = (np.sum((prediction - y_test)**2))/total_data\n",
        "    return error"
      ],
      "execution_count": 0,
      "outputs": []
    },
    {
      "cell_type": "code",
      "metadata": {
        "id": "VF0CCCdEICcv",
        "colab_type": "code",
        "colab": {}
      },
      "source": [
        "def rsq(prediction, y_test):\n",
        "    #\n",
        "    total_data = len(prediction)\n",
        "    #Average of total prediction \n",
        "    y_avg = np.sum(y_test)/total_data\n",
        "    #total sum of square error\n",
        "    tot_err = np.sum((y_test-y_avg)**2)\n",
        "    #total sum of squared error of residuals\n",
        "    res_err = np.sum((y_test-prediction)**2)\n",
        "    #\n",
        "    r2 = 1 - (res_err / tot_err)\n",
        "    return r2"
      ],
      "execution_count": 0,
      "outputs": []
    },
    {
      "cell_type": "code",
      "metadata": {
        "id": "cnA8-grLICcy",
        "colab_type": "code",
        "colab": {},
        "outputId": "1dd84f14-58db-4162-e9fa-5a3c27a278e7"
      },
      "source": [
        "#Finding optimal theta value using normal equations\n",
        "theta = theta_calc(x_train, y_train)\n",
        "intercept = theta[0]\n",
        "slope = theta[1]\n",
        "print('Intercept of the model', intercept)\n",
        "print('Slope of the model', slope)\n",
        "#Prediction calculation\n",
        "prediction = predict_func(slope, intercept, x_test)\n",
        "#MSE calculation\n",
        "error =  mse_calc(prediction, y_test)\n",
        "print('Mean squared error of the model', error)\n",
        "#R-square calculation\n",
        "r2_val = rsq(prediction, y_test)\n",
        "print('R squared value', r2_val)"
      ],
      "execution_count": 0,
      "outputs": [
        {
          "output_type": "stream",
          "text": [
            "Intercept of the model [ 15.07636055]\n",
            "Slope of the model [ 1.19463787]\n",
            "Mean squared error of the model 153.209271672\n",
            "R squared value 0.615496585536\n"
          ],
          "name": "stdout"
        }
      ]
    },
    {
      "cell_type": "code",
      "metadata": {
        "id": "47mfllSfICc3",
        "colab_type": "code",
        "colab": {},
        "outputId": "eb4d8403-601f-4500-f570-3186346cbc93"
      },
      "source": [
        "#Residual plot\n",
        "plt.scatter(prediction, prediction - y_test, c='g', s = 40)\n",
        "plt.hlines(y=0, xmin=0, xmax=100)\n",
        "plt.title('Residual plot')\n",
        "plt.ylabel('Residual')"
      ],
      "execution_count": 0,
      "outputs": [
        {
          "output_type": "execute_result",
          "data": {
            "text/plain": [
              "<matplotlib.text.Text at 0x16a3967e278>"
            ]
          },
          "metadata": {
            "tags": []
          },
          "execution_count": 32
        },
        {
          "output_type": "display_data",
          "data": {
            "image/png": "[encoded data removed]",
            "text/plain": [
              "<matplotlib.figure.Figure at 0x16a38644940>"
            ]
          },
          "metadata": {
            "tags": []
          }
        }
      ]
    },
    {
      "cell_type": "markdown",
      "metadata": {
        "id": "udDjnAleICc7",
        "colab_type": "text"
      },
      "source": [
        "# Linear Regression using Gradient Descent"
      ]
    },
    {
      "cell_type": "code",
      "metadata": {
        "id": "5WWGzneDICc8",
        "colab_type": "code",
        "colab": {}
      },
      "source": [
        "def mse_calc(slope, intercept, x_train, y_train):\n",
        "    tot_error = 0\n",
        "    pred = []\n",
        "    for i in range(len(x_train)):\n",
        "        #calculating total error. It follows the formula y=mx+c\n",
        "        #m is the slope and c is the intercept\n",
        "        pred.append(((slope*x_train[i]) + intercept))\n",
        "        tot_error += (y_train[i] - ((slope*x_train[i]) + intercept)) ** 2\n",
        "        \n",
        "    error = tot_error / float(len(x_train))\n",
        "    return error, pred"
      ],
      "execution_count": 0,
      "outputs": []
    },
    {
      "cell_type": "code",
      "metadata": {
        "id": "61P1M4eiICdB",
        "colab_type": "code",
        "colab": {}
      },
      "source": [
        "#gradient descent \n",
        "def grad_descent(s_slope, s_intercept, l_rate, iter_val, x_train, y_train):\n",
        "    \n",
        "    for i in range(iter_val):\n",
        "        int_slope = 0\n",
        "        int_intercept = 0\n",
        "        n_pt = float(len(x_train))\n",
        "        \n",
        "        \n",
        "        for i in range(len(x_train)):\n",
        "            int_intercept += - (2/n_pt) * (y_train[i] - ((s_slope * x_train[i]) + s_intercept))\n",
        "            int_slope += - (2/n_pt) * x_train[i] * (y_train[i] - ((s_slope * x_train[i]) + s_intercept))\n",
        "            \n",
        "        final_slope = s_slope - (l_rate * int_slope)\n",
        "        final_intercept = s_intercept - (l_rate * int_intercept)\n",
        "        s_slope = final_slope\n",
        "        s_intercept = final_intercept\n",
        "        \n",
        "        \n",
        "    return  s_slope, s_intercept"
      ],
      "execution_count": 0,
      "outputs": []
    },
    {
      "cell_type": "code",
      "metadata": {
        "id": "T_SdHnvGICdJ",
        "colab_type": "code",
        "colab": {},
        "outputId": "96169611-ee4e-4815-b6ec-f8c8cdc9267a"
      },
      "source": [
        "#defining slope and intercept value as 0 \n",
        "learning_rate = 0.0001\n",
        "start_slope = 0\n",
        "start_intercept = 0\n",
        "iteration = 50\n",
        "#intial run\n",
        "grad_slope, grad_intercept = grad_descent(start_slope, start_intercept, learning_rate, iteration, x_train, y_train)\n",
        "final_e_value, prediction = mse_calc(grad_slope, grad_intercept, x_test, y_test)\n",
        "#\n",
        "print('Slope of the model', grad_slope)\n",
        "print('Intercept of the model', grad_intercept)\n",
        "print('Error value of the model', final_e_value)\n",
        "r2_val = rsq(prediction, y_test)\n",
        "print('R squared value', r2_val)\n",
        "#Graph\n",
        "plt.scatter(x_test, y_test)\n",
        "plt.plot(x_test, prediction, color='blue', linewidth = 3)\n",
        "plt.xlabel(\"Input\")\n",
        "plt.ylabel(\"Output\")\n",
        "plt.show()"
      ],
      "execution_count": 0,
      "outputs": [
        {
          "output_type": "stream",
          "text": [
            "Slope of the model [ 1.48652326]\n",
            "Intercept of the model [ 0.03399291]\n",
            "Error value of the model [ 123.81572184]\n",
            "R squared value 0.689264446653\n"
          ],
          "name": "stdout"
        },
        {
          "output_type": "display_data",
          "data": {
            "image/png": "[encoded data removed]",
            "text/plain": [
              "<matplotlib.figure.Figure at 0x16a385d8198>"
            ]
          },
          "metadata": {
            "tags": []
          }
        }
      ]
    },
    {
      "cell_type": "code",
      "metadata": {
        "id": "wRZlhfhjICdM",
        "colab_type": "code",
        "colab": {}
      },
      "source": [
        ""
      ],
      "execution_count": 0,
      "outputs": []
    }
  ]
}