{
  "nbformat": 4,
  "nbformat_minor": 0,
  "metadata": {
    "kernelspec": {
      "display_name": "Python 3",
      "language": "python",
      "name": "python3"
    },
    "language_info": {
      "codemirror_mode": {
        "name": "ipython",
        "version": 3
      },
      "file_extension": ".py",
      "mimetype": "text/x-python",
      "name": "python",
      "nbconvert_exporter": "python",
      "pygments_lexer": "ipython3",
      "version": "3.5.4"
    },
    "colab": {
      "name": "Linear_Regression.ipynb",
      "provenance": []
    }
  },
  "cells": [
    {
      "cell_type": "markdown",
      "metadata": {
        "id": "Xeze1Xrqe15i",
        "colab_type": "text"
      },
      "source": [
        "\n",
        "* Set hypothesis\n",
        "* chose cost function such Mean Squared Error MSE\n",
        "* minimize using gradient descent\n",
        "\n",
        "**Linear Regression**\n",
        "Linear Regression:\n",
        " is a kind of parametric regression model that makes a prediction by taking the weighted average of the input features of an observation or data point and adding a constant called the bias term.\n",
        "\n",
        "**Cost Function**\n",
        "We need a function that will minimize the parameters over our dataset. One common function that is often used is mean squared error (MSE), which measure the difference between the estimator (the dataset) and the estimated value (the prediction)\n",
        "\n",
        "**Gradient Descent**\n",
        "Gradient Descent is a general function for minimizing a function, in this case the Mean Squared Error cost function.\n",
        "  Random values \n",
        "  Calculate R2\n",
        "  Calculate P-Value for R2\n",
        "  \n",
        "\n",
        "\n",
        "\n",
        " https://www.youtube.com/watch?time_continue=113&v=nk2CQITm_eo&feature=emb_logo\n"
      ]
    },
    {
      "cell_type": "code",
      "metadata": {
        "id": "zlqNGHIMICbQ",
        "colab_type": "code",
        "outputId": "ab77d216-afcc-442d-ed7b-53a05a1de330",
        "colab": {
          "base_uri": "https://localhost:8080/",
          "height": 71
        }
      },
      "source": [
        "import pandas as pd\n",
        "import numpy as np\n",
        "from sklearn import linear_model\n",
        "from sklearn.model_selection import train_test_split\n",
        "import seaborn as sns\n",
        "from sklearn import metrics\n",
        "import matplotlib.pyplot as plt\n",
        "%matplotlib inline"
      ],
      "execution_count": 0,
      "outputs": [
        {
          "output_type": "stream",
          "text": [
            "/usr/local/lib/python3.6/dist-packages/statsmodels/tools/_testing.py:19: FutureWarning: pandas.util.testing is deprecated. Use the functions in the public API at pandas.testing instead.\n",
            "  import pandas.util.testing as tm\n"
          ],
          "name": "stderr"
        }
      ]
    },
    {
      "cell_type": "code",
      "metadata": {
        "id": "0RXb37YkICbX",
        "colab_type": "code",
        "colab": {}
      },
      "source": [
        "df = pd.read_csv('https://raw.githubusercontent.com/mohammad0alfares/Linear_Regression_Detailed_Implementation/master/student_scores.csv', index_col=False)"
      ],
      "execution_count": 0,
      "outputs": []
    },
    {
      "cell_type": "code",
      "metadata": {
        "id": "_WZr59WSICbd",
        "colab_type": "code",
        "outputId": "d8ddd6a8-f46d-4c0e-ae67-58231c17d3ee",
        "colab": {
          "base_uri": "https://localhost:8080/",
          "height": 204
        }
      },
      "source": [
        "df.columns = [\"Hours\", \"Marks\"]\n",
        "df.head()"
      ],
      "execution_count": 0,
      "outputs": [
        {
          "output_type": "execute_result",
          "data": {
            "text/html": [
              "<div>\n",
              "<style scoped>\n",
              "    .dataframe tbody tr th:only-of-type {\n",
              "        vertical-align: middle;\n",
              "    }\n",
              "\n",
              "    .dataframe tbody tr th {\n",
              "        vertical-align: top;\n",
              "    }\n",
              "\n",
              "    .dataframe thead th {\n",
              "        text-align: right;\n",
              "    }\n",
              "</style>\n",
              "<table border=\"1\" class=\"dataframe\">\n",
              "  <thead>\n",
              "    <tr style=\"text-align: right;\">\n",
              "      <th></th>\n",
              "      <th>Hours</th>\n",
              "      <th>Marks</th>\n",
              "    </tr>\n",
              "  </thead>\n",
              "  <tbody>\n",
              "    <tr>\n",
              "      <th>0</th>\n",
              "      <td>2.5</td>\n",
              "      <td>21</td>\n",
              "    </tr>\n",
              "    <tr>\n",
              "      <th>1</th>\n",
              "      <td>5.1</td>\n",
              "      <td>47</td>\n",
              "    </tr>\n",
              "    <tr>\n",
              "      <th>2</th>\n",
              "      <td>3.2</td>\n",
              "      <td>27</td>\n",
              "    </tr>\n",
              "    <tr>\n",
              "      <th>3</th>\n",
              "      <td>8.5</td>\n",
              "      <td>75</td>\n",
              "    </tr>\n",
              "    <tr>\n",
              "      <th>4</th>\n",
              "      <td>3.5</td>\n",
              "      <td>30</td>\n",
              "    </tr>\n",
              "  </tbody>\n",
              "</table>\n",
              "</div>"
            ],
            "text/plain": [
              "   Hours  Marks\n",
              "0    2.5     21\n",
              "1    5.1     47\n",
              "2    3.2     27\n",
              "3    8.5     75\n",
              "4    3.5     30"
            ]
          },
          "metadata": {
            "tags": []
          },
          "execution_count": 5
        }
      ]
    },
    {
      "cell_type": "code",
      "metadata": {
        "id": "wBbTTfs7ICbl",
        "colab_type": "code",
        "outputId": "846a2806-85b7-4e3b-91fe-af7da956ab81",
        "colab": {
          "base_uri": "https://localhost:8080/",
          "height": 34
        }
      },
      "source": [
        "df.shape"
      ],
      "execution_count": 0,
      "outputs": [
        {
          "output_type": "execute_result",
          "data": {
            "text/plain": [
              "(25, 2)"
            ]
          },
          "metadata": {
            "tags": []
          },
          "execution_count": 25
        }
      ]
    },
    {
      "cell_type": "markdown",
      "metadata": {
        "id": "yKHOznM1ICbr",
        "colab_type": "text"
      },
      "source": [
        "# Data Visualization"
      ]
    },
    {
      "cell_type": "markdown",
      "metadata": {
        "id": "ekWQ1aBfICbs",
        "colab_type": "text"
      },
      "source": [
        "To visualize distribution of data"
      ]
    },
    {
      "cell_type": "markdown",
      "metadata": {
        "id": "fZeA_XHfICbt",
        "colab_type": "text"
      },
      "source": [
        "Regression line is drawn over the points "
      ]
    },
    {
      "cell_type": "code",
      "metadata": {
        "id": "kW4qUjNLICbt",
        "colab_type": "code",
        "outputId": "06be5405-b973-4f0e-98fd-5d6544be8950",
        "colab": {
          "base_uri": "https://localhost:8080/",
          "height": 458
        }
      },
      "source": [
        "sns.jointplot(x=df['Hours'], y=df['Marks'], data=df, kind='reg')"
      ],
      "execution_count": 0,
      "outputs": [
        {
          "output_type": "execute_result",
          "data": {
            "text/plain": [
              "<seaborn.axisgrid.JointGrid at 0x7f0ae191bef0>"
            ]
          },
          "metadata": {
            "tags": []
          },
          "execution_count": 6
        },
        {
          "output_type": "display_data",
          "data": {
            "image/png": "[encoded data removed]",
            "text/plain": [
              "<Figure size 432x432 with 3 Axes>"
            ]
          },
          "metadata": {
            "tags": [],
            "needs_background": "light"
          }
        }
      ]
    },
    {
      "cell_type": "code",
      "metadata": {
        "id": "GbhOytOi__Iq",
        "colab_type": "code",
        "outputId": "6335449e-ba96-4d3c-d6e3-ba0c7ec1be5e",
        "colab": {
          "base_uri": "https://localhost:8080/",
          "height": 282
        }
      },
      "source": [
        "plt.scatter(df['Hours'],df['Marks'])"
      ],
      "execution_count": 0,
      "outputs": [
        {
          "output_type": "execute_result",
          "data": {
            "text/plain": [
              "<matplotlib.collections.PathCollection at 0x7f0ade695eb8>"
            ]
          },
          "metadata": {
            "tags": []
          },
          "execution_count": 12
        },
        {
          "output_type": "display_data",
          "data": {
            "image/png": "[encoded data removed]",
            "text/plain": [
              "<Figure size 432x288 with 1 Axes>"
            ]
          },
          "metadata": {
            "tags": [],
            "needs_background": "light"
          }
        }
      ]
    },
    {
      "cell_type": "markdown",
      "metadata": {
        "id": "fawnHTk7ICbz",
        "colab_type": "text"
      },
      "source": [
        "# Splitting data into test and train"
      ]
    },
    {
      "cell_type": "code",
      "metadata": {
        "id": "YX1pCIAUPv6n",
        "colab_type": "code",
        "colab": {}
      },
      "source": [
        "x_train, x_test, y_train, y_test = train_test_split(df['Hours'], df['Marks'], test_size=0.2, random_state=42)\n"
      ],
      "execution_count": 0,
      "outputs": []
    },
    {
      "cell_type": "code",
      "metadata": {
        "id": "CCe0dGVSBbAo",
        "colab_type": "code",
        "outputId": "70e4d9fe-60ca-4bfd-f5d4-03be4ddffeb8",
        "colab": {
          "base_uri": "https://localhost:8080/",
          "height": 119
        }
      },
      "source": [
        "print (df.shape)\n",
        "print('Train - Predictors type', type(x_train))\n",
        "\n",
        "print('Train - Predictors shape', x_train.shape)\n",
        "print('Test - Predictors shape', x_test.shape)\n",
        "print('Train - Target shape', y_train.shape)\n",
        "print('Test - Target shape', y_test.shape)"
      ],
      "execution_count": 0,
      "outputs": [
        {
          "output_type": "stream",
          "text": [
            "(25, 2)\n",
            "Train - Predictors type <class 'numpy.ndarray'>\n",
            "Train - Predictors shape (20, 1)\n",
            "Test - Predictors shape (5, 1)\n",
            "Train - Target shape (20, 1)\n",
            "Test - Target shape (5, 1)\n"
          ],
          "name": "stdout"
        }
      ]
    },
    {
      "cell_type": "code",
      "metadata": {
        "id": "jVuzPlnn9zO5",
        "colab_type": "code",
        "colab": {}
      },
      "source": [
        "x_train"
      ],
      "execution_count": 0,
      "outputs": []
    },
    {
      "cell_type": "code",
      "metadata": {
        "id": "6kmA1QhXJIYn",
        "colab_type": "code",
        "colab": {}
      },
      "source": [
        "x_train"
      ],
      "execution_count": 0,
      "outputs": []
    },
    {
      "cell_type": "code",
      "metadata": {
        "id": "-7aaDzZUHZMN",
        "colab_type": "code",
        "colab": {}
      },
      "source": [
        "x_train.shape\n",
        "type(x_train)"
      ],
      "execution_count": 0,
      "outputs": []
    },
    {
      "cell_type": "code",
      "metadata": {
        "id": "RShMaMTwICb0",
        "colab_type": "code",
        "colab": {}
      },
      "source": [
        "x_train = np.reshape(x_train.values, (-1,1))\n",
        "x_test = np.reshape(x_test.values, (-1,1))\n",
        "y_train = np.reshape(y_train.values, (-1,1))\n",
        "y_test = np.reshape(y_test.values, (-1,1))\n",
        "\n",
        "#\n"
      ],
      "execution_count": 0,
      "outputs": []
    },
    {
      "cell_type": "markdown",
      "metadata": {
        "id": "ElnJ_GZpICb6",
        "colab_type": "text"
      },
      "source": [
        "# Linear Regression using Scikit"
      ]
    },
    {
      "cell_type": "markdown",
      "metadata": {
        "id": "PNn2lqzfICb7",
        "colab_type": "text"
      },
      "source": [
        "This is the linear regression model implemented using scikit library. "
      ]
    },
    {
      "cell_type": "code",
      "metadata": {
        "id": "wcsfUyz2ICb8",
        "colab_type": "code",
        "outputId": "3921516c-0115-48d0-a9b5-9a1c0e98a191",
        "colab": {
          "base_uri": "https://localhost:8080/",
          "height": 34
        }
      },
      "source": [
        "cls = linear_model.LinearRegression()\n",
        "#Fit method is used for fitting your training data into the model\n",
        "cls.fit(x_train,y_train)"
      ],
      "execution_count": 0,
      "outputs": [
        {
          "output_type": "execute_result",
          "data": {
            "text/plain": [
              "LinearRegression(copy_X=True, fit_intercept=True, n_jobs=None, normalize=False)"
            ]
          },
          "metadata": {
            "tags": []
          },
          "execution_count": 54
        }
      ]
    },
    {
      "cell_type": "code",
      "metadata": {
        "id": "O-BqZTWtICcC",
        "colab_type": "code",
        "colab": {}
      },
      "source": [
        "prediction = cls.predict(x_test)"
      ],
      "execution_count": 0,
      "outputs": []
    },
    {
      "cell_type": "code",
      "metadata": {
        "id": "qZBs4bMxICcH",
        "colab_type": "code",
        "outputId": "136dd475-9ce2-4844-f203-f6f623e082ba",
        "colab": {
          "base_uri": "https://localhost:8080/",
          "height": 34
        }
      },
      "source": [
        "#Parameters used for the model \n",
        "cls.get_params()"
      ],
      "execution_count": 0,
      "outputs": [
        {
          "output_type": "execute_result",
          "data": {
            "text/plain": [
              "{'copy_X': True, 'fit_intercept': True, 'n_jobs': None, 'normalize': False}"
            ]
          },
          "metadata": {
            "tags": []
          },
          "execution_count": 56
        }
      ]
    },
    {
      "cell_type": "code",
      "metadata": {
        "id": "jJJtmblqICcN",
        "colab_type": "code",
        "outputId": "2dbb15a4-57e7-48bb-baa3-5c46b68426d8",
        "colab": {
          "base_uri": "https://localhost:8080/",
          "height": 34
        }
      },
      "source": [
        "print('Co-efficient of linear regression',cls.coef_)"
      ],
      "execution_count": 0,
      "outputs": [
        {
          "output_type": "stream",
          "text": [
            "Co-efficient of linear regression [[9.68207815]]\n"
          ],
          "name": "stdout"
        }
      ]
    },
    {
      "cell_type": "code",
      "metadata": {
        "id": "UTY7YiRUICcR",
        "colab_type": "code",
        "outputId": "aa753e71-5c42-4ec1-e8f7-59f069744883",
        "colab": {
          "base_uri": "https://localhost:8080/",
          "height": 34
        }
      },
      "source": [
        "print('Intercept of linear regression model',cls.intercept_)"
      ],
      "execution_count": 0,
      "outputs": [
        {
          "output_type": "stream",
          "text": [
            "Intercept of linear regression model [2.82689235]\n"
          ],
          "name": "stdout"
        }
      ]
    },
    {
      "cell_type": "code",
      "metadata": {
        "id": "lf7Qhq8lICcV",
        "colab_type": "code",
        "outputId": "253f615b-8c57-4d97-91b7-c21140f039b9",
        "colab": {
          "base_uri": "https://localhost:8080/",
          "height": 34
        }
      },
      "source": [
        "print('Mean Square Error', metrics.mean_squared_error(y_test, prediction))"
      ],
      "execution_count": 0,
      "outputs": [
        {
          "output_type": "stream",
          "text": [
            "Mean Square Error 18.943211722315272\n"
          ],
          "name": "stdout"
        }
      ]
    },
    {
      "cell_type": "code",
      "metadata": {
        "id": "E92OXDTjICcY",
        "colab_type": "code",
        "outputId": "aadf6d53-9235-43ab-d100-568151dd28f1",
        "colab": {
          "base_uri": "https://localhost:8080/",
          "height": 34
        }
      },
      "source": [
        "print('Model R^2 Square value', metrics.r2_score(y_test, prediction))"
      ],
      "execution_count": 0,
      "outputs": [
        {
          "output_type": "stream",
          "text": [
            "Model R^2 Square value 0.9678055545167994\n"
          ],
          "name": "stdout"
        }
      ]
    },
    {
      "cell_type": "code",
      "metadata": {
        "id": "QhoU0ykdICca",
        "colab_type": "code",
        "outputId": "a99e699f-d916-4c96-e7d4-fdd7aa992e69",
        "colab": {
          "base_uri": "https://localhost:8080/",
          "height": 312
        }
      },
      "source": [
        "#Model Regression line on test set\n",
        "plt.scatter(x_test, y_test)\n",
        "plt.plot(x_test, prediction, color='red', linewidth=3)\n",
        "plt.xlabel('Hours')\n",
        "plt.ylabel('Marks')\n",
        "plt.title('Linear Regression')"
      ],
      "execution_count": 0,
      "outputs": [
        {
          "output_type": "execute_result",
          "data": {
            "text/plain": [
              "Text(0.5, 1.0, 'Linear Regression')"
            ]
          },
          "metadata": {
            "tags": []
          },
          "execution_count": 61
        },
        {
          "output_type": "display_data",
          "data": {
            "image/png": "[encoded data removed]",
            "text/plain": [
              "<Figure size 432x288 with 1 Axes>"
            ]
          },
          "metadata": {
            "tags": [],
            "needs_background": "light"
          }
        }
      ]
    },
    {
      "cell_type": "code",
      "metadata": {
        "id": "W-2x9AqGICcd",
        "colab_type": "code",
        "outputId": "86716f35-c58c-45c6-d5da-f48ec164e069",
        "colab": {
          "base_uri": "https://localhost:8080/",
          "height": 298
        }
      },
      "source": [
        "#Residual plot\n",
        "plt.scatter(cls.predict(x_test), cls.predict(x_test) - y_test, c='g', s = 40)\n",
        "plt.hlines(y=0, xmin=0, xmax=100)\n",
        "plt.title('Residual plot')\n",
        "plt.ylabel('Residual')"
      ],
      "execution_count": 0,
      "outputs": [
        {
          "output_type": "execute_result",
          "data": {
            "text/plain": [
              "Text(0, 0.5, 'Residual')"
            ]
          },
          "metadata": {
            "tags": []
          },
          "execution_count": 62
        },
        {
          "output_type": "display_data",
          "data": {
            "image/png": "[encoded data removed]",
            "text/plain": [
              "<Figure size 432x288 with 1 Axes>"
            ]
          },
          "metadata": {
            "tags": [],
            "needs_background": "light"
          }
        }
      ]
    },
    {
      "cell_type": "markdown",
      "metadata": {
        "id": "dnpqD1h3ICch",
        "colab_type": "text"
      },
      "source": [
        "points are scattered around the line zero and there is no pattern that can be observed. This indicates that there no relation between predictors or time dependant data that is missed."
      ]
    },
    {
      "cell_type": "markdown",
      "metadata": {
        "id": "boYTwtD9ICch",
        "colab_type": "text"
      },
      "source": [
        "# Linear Regression using normal equaltions"
      ]
    },
    {
      "cell_type": "code",
      "metadata": {
        "id": "wlpTDrKQICci",
        "colab_type": "code",
        "colab": {}
      },
      "source": [
        "def theta_calc(x_train, y_train):\n",
        "    #Initializing all variables\n",
        "    n_data = x_train.shape[0]\n",
        "    bias = np.ones((n_data,1))\n",
        "    x_train_b = np.append(bias, x_train, axis=1)\n",
        "    #\n",
        "    theta_1 = np.linalg.inv(np.dot(x_train_b.T,x_train_b))\n",
        "    theta_2 = np.dot(theta_1, x_train_b.T)\n",
        "    theta = np.dot(theta_2,y_train)\n",
        "    #\n",
        "    return theta"
      ],
      "execution_count": 0,
      "outputs": []
    },
    {
      "cell_type": "code",
      "metadata": {
        "id": "vXSjfE6PICco",
        "colab_type": "code",
        "colab": {}
      },
      "source": [
        "def predict_func(slope,intercept,x_test):\n",
        "    #\n",
        "    pred = []\n",
        "    n_data = x_test.shape[0]\n",
        "    for i in range(n_data):\n",
        "        pred.append((slope * x_test[i]) + intercept)\n",
        "        \n",
        "    return pred"
      ],
      "execution_count": 0,
      "outputs": []
    },
    {
      "cell_type": "code",
      "metadata": {
        "id": "j5JW79tNICcs",
        "colab_type": "code",
        "colab": {}
      },
      "source": [
        "def mse_calc(prediction, y_test):\n",
        "    #\n",
        "    total_data = len(prediction)\n",
        "    error = 0\n",
        "    error = (np.sum((prediction - y_test)**2))/total_data\n",
        "    return error"
      ],
      "execution_count": 0,
      "outputs": []
    },
    {
      "cell_type": "code",
      "metadata": {
        "id": "VF0CCCdEICcv",
        "colab_type": "code",
        "colab": {}
      },
      "source": [
        "def rsq(prediction, y_test):\n",
        "    #\n",
        "    total_data = len(prediction)\n",
        "    #Average of total prediction \n",
        "    y_avg = np.sum(y_test)/total_data\n",
        "    #total sum of square error\n",
        "    tot_err = np.sum((y_test-y_avg)**2)\n",
        "    #total sum of squared error of residuals\n",
        "    res_err = np.sum((y_test-prediction)**2)\n",
        "    #\n",
        "    r2 = 1 - (res_err / tot_err)\n",
        "    return r2"
      ],
      "execution_count": 0,
      "outputs": []
    },
    {
      "cell_type": "code",
      "metadata": {
        "id": "cnA8-grLICcy",
        "colab_type": "code",
        "outputId": "777aea2a-de38-439f-cde4-667f30914c5e",
        "colab": {
          "base_uri": "https://localhost:8080/",
          "height": 85
        }
      },
      "source": [
        "#Finding optimal theta value using normal equations\n",
        "theta = theta_calc(x_train, y_train)\n",
        "intercept = theta[0]\n",
        "slope = theta[1]\n",
        "print('Intercept of the model', intercept)\n",
        "print('Slope of the model', slope)\n",
        "#Prediction calculation\n",
        "prediction = predict_func(slope, intercept, x_test)\n",
        "#MSE calculation\n",
        "error =  mse_calc(prediction, y_test)\n",
        "print('Mean squared error of the model', error)\n",
        "#R-square calculation\n",
        "r2_val = rsq(prediction, y_test)\n",
        "print('R squared value', r2_val)"
      ],
      "execution_count": 0,
      "outputs": [
        {
          "output_type": "stream",
          "text": [
            "Intercept of the model [2.82689235]\n",
            "Slope of the model [9.68207815]\n",
            "Mean squared error of the model 18.943211722315304\n",
            "R squared value 0.9678055545167993\n"
          ],
          "name": "stdout"
        }
      ]
    },
    {
      "cell_type": "code",
      "metadata": {
        "id": "47mfllSfICc3",
        "colab_type": "code",
        "outputId": "86951561-f781-4c0d-bbbf-b059000c656a",
        "colab": {
          "base_uri": "https://localhost:8080/",
          "height": 298
        }
      },
      "source": [
        "#Residual plot\n",
        "plt.scatter(prediction, prediction - y_test, c='g', s = 40)\n",
        "plt.hlines(y=0, xmin=0, xmax=100)\n",
        "plt.title('Residual plot')\n",
        "plt.ylabel('Residual')"
      ],
      "execution_count": 0,
      "outputs": [
        {
          "output_type": "execute_result",
          "data": {
            "text/plain": [
              "Text(0, 0.5, 'Residual')"
            ]
          },
          "metadata": {
            "tags": []
          },
          "execution_count": 69
        },
        {
          "output_type": "display_data",
          "data": {
            "image/png": "[encoded data removed]",
            "text/plain": [
              "<Figure size 432x288 with 1 Axes>"
            ]
          },
          "metadata": {
            "tags": [],
            "needs_background": "light"
          }
        }
      ]
    },
    {
      "cell_type": "markdown",
      "metadata": {
        "id": "udDjnAleICc7",
        "colab_type": "text"
      },
      "source": [
        "# Linear Regression using Gradient Descent"
      ]
    },
    {
      "cell_type": "code",
      "metadata": {
        "id": "5WWGzneDICc8",
        "colab_type": "code",
        "colab": {}
      },
      "source": [
        "def mse_calc(slope, intercept, x_train, y_train):\n",
        "    tot_error = 0\n",
        "    pred = []\n",
        "    for i in range(len(x_train)):\n",
        "        #calculating total error. It follows the formula y=mx+c\n",
        "        #m is the slope and c is the intercept\n",
        "        pred.append(((slope*x_train[i]) + intercept))\n",
        "        tot_error += (y_train[i] - ((slope*x_train[i]) + intercept)) ** 2\n",
        "        \n",
        "    error = tot_error / float(len(x_train))\n",
        "    return error, pred"
      ],
      "execution_count": 0,
      "outputs": []
    },
    {
      "cell_type": "code",
      "metadata": {
        "id": "61P1M4eiICdB",
        "colab_type": "code",
        "colab": {}
      },
      "source": [
        "#gradient descent \n",
        "def grad_descent(s_slope, s_intercept, l_rate, iter_val, x_train, y_train):\n",
        "    \n",
        "    for i in range(iter_val):\n",
        "        int_slope = 0\n",
        "        int_intercept = 0\n",
        "        n_pt = float(len(x_train))\n",
        "        \n",
        "        \n",
        "        for i in range(len(x_train)):\n",
        "            int_intercept += - (2/n_pt) * (y_train[i] - ((s_slope * x_train[i]) + s_intercept))\n",
        "            int_slope += - (2/n_pt) * x_train[i] * (y_train[i] - ((s_slope * x_train[i]) + s_intercept))\n",
        "            \n",
        "        final_slope = s_slope - (l_rate * int_slope)\n",
        "        final_intercept = s_intercept - (l_rate * int_intercept)\n",
        "        s_slope = final_slope\n",
        "        s_intercept = final_intercept\n",
        "        \n",
        "        \n",
        "    return  s_slope, s_intercept"
      ],
      "execution_count": 0,
      "outputs": []
    },
    {
      "cell_type": "code",
      "metadata": {
        "id": "T_SdHnvGICdJ",
        "colab_type": "code",
        "outputId": "96169611-ee4e-4815-b6ec-f8c8cdc9267a",
        "colab": {}
      },
      "source": [
        "#defining slope and intercept value as 0 \n",
        "learning_rate = 0.0001\n",
        "start_slope = 0\n",
        "start_intercept = 0\n",
        "iteration = 50\n",
        "#intial run\n",
        "grad_slope, grad_intercept = grad_descent(start_slope, start_intercept, learning_rate, iteration, x_train, y_train)\n",
        "final_e_value, prediction = mse_calc(grad_slope, grad_intercept, x_test, y_test)\n",
        "#\n",
        "print('Slope of the model', grad_slope)\n",
        "print('Intercept of the model', grad_intercept)\n",
        "print('Error value of the model', final_e_value)\n",
        "r2_val = rsq(prediction, y_test)\n",
        "print('R squared value', r2_val)\n",
        "#Graph\n",
        "plt.scatter(x_test, y_test)\n",
        "plt.plot(x_test, prediction, color='blue', linewidth = 3)\n",
        "plt.xlabel(\"Input\")\n",
        "plt.ylabel(\"Output\")\n",
        "plt.show()"
      ],
      "execution_count": 0,
      "outputs": [
        {
          "output_type": "stream",
          "text": [
            "Slope of the model [ 1.48652326]\n",
            "Intercept of the model [ 0.03399291]\n",
            "Error value of the model [ 123.81572184]\n",
            "R squared value 0.689264446653\n"
          ],
          "name": "stdout"
        },
        {
          "output_type": "display_data",
          "data": {
            "image/png": "[encoded data removed]",
            "text/plain": [
              "<matplotlib.figure.Figure at 0x16a385d8198>"
            ]
          },
          "metadata": {
            "tags": []
          }
        }
      ]
    },
    {
      "cell_type": "code",
      "metadata": {
        "id": "wRZlhfhjICdM",
        "colab_type": "code",
        "colab": {}
      },
      "source": [
        ""
      ],
      "execution_count": 0,
      "outputs": []
    }
  ]
}